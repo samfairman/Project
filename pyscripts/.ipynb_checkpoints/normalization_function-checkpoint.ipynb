{
 "cells": [
  {
   "cell_type": "code",
   "execution_count": 1,
   "metadata": {},
   "outputs": [],
   "source": [
    "def normalization(file = None,  origin_Ug=None):\n",
    "    filepath = \"/Users/chenjie/pyQEDA/pyQEDA_simulations/\" + file + \"/\" + file + \"_experimental_data\" +'/'\n",
    "    beamfilename = '_BeamList.txt'\n",
    "    beamfile = filepath + beamfilename\n",
    "    beams = np.asarray(np.loadtxt(beamfile,skiprows=1, usecols= range(1, 4)  ), dtype=int )\n",
    "\n",
    "    Ug_normalized = []\n",
    "    for i in range(len(beams)):\n",
    "        g = i\n",
    "        for j in range(len(beams)):\n",
    "            if (beams[i] + beams[j]==0).all():\n",
    "                minus_g = j\n",
    "                        \n",
    "        U_g = origin_Ug[g]\n",
    "        U_minus_g = origin_Ug[minus_g]\n",
    "        temp = 0.5*(U_g + np.conjugate(U_minus_g))\n",
    "        U_g = temp\n",
    "        U_minus_g = np.conjugate(temp)\n",
    "        Ug_normalized.append(U_g)\n",
    "    return Ug_normalized"
   ]
  },
  {
   "cell_type": "code",
   "execution_count": null,
   "metadata": {},
   "outputs": [],
   "source": []
  }
 ],
 "metadata": {
  "kernelspec": {
   "display_name": "pyQEDA37",
   "language": "python",
   "name": "pyqeda37"
  },
  "language_info": {
   "codemirror_mode": {
    "name": "ipython",
    "version": 3
   },
   "file_extension": ".py",
   "mimetype": "text/x-python",
   "name": "python",
   "nbconvert_exporter": "python",
   "pygments_lexer": "ipython3",
   "version": "3.7.9"
  }
 },
 "nbformat": 4,
 "nbformat_minor": 4
}
