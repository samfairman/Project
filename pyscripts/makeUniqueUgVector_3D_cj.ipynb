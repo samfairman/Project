{
 "cells": [
  {
   "cell_type": "code",
   "execution_count": 1,
   "metadata": {},
   "outputs": [],
   "source": [
    "def makeUniqueUgVector(Ug,beam1=1,beam2=8,beam3=10,phase1=0,phase2=0,phase3=0,file=None):\n",
    "    import numpy as np\n",
    "    import numpy.linalg as la\n",
    "    \n",
    "    filepath = \"/Users/chenjie/pyQEDA/pyQEDA_simulations/\" + file + \"/\" + file + \"_experimental_data\" +'/'\n",
    "    beamfilename = '_BeamList.txt'\n",
    "    beamfile = filepath + beamfilename\n",
    "    beams = np.asarray(np.loadtxt(beamfile,skiprows=1, usecols= range(1, 4)  ), dtype=int )\n",
    "    \n",
    "    '''The function makeUniqueUgVector requires the following information:\n",
    "    * Ug:     structure factor vector (1D array of complex numbers)\n",
    "    * beams:  Miller indices of the reflections corresponding to the Ug-vector\n",
    "    * beam1:  index to the first reference beam in the list of beams\n",
    "    * beam2:  index to the second reference beam in the list of beams\n",
    "    * phase1: Phase that the 1st beam shall be set to (default = 0)\n",
    "    * phase2: Phase that the 2nd beam shall be set to (default = 0)\n",
    "\n",
    "    The function makeUniqueUgVector returns:\n",
    "    * UgUnique: Structure factor vector with shifted unit cell origin, such that the two reference \n",
    "                phases are set to the fixed values\n",
    "    * r0:       shift that has been applied to the unit cell origin (in fractional coordinates)'''\n",
    "    \n",
    "    # Compute r0 by solving above linear equation\n",
    "    G = 2.0*np.pi*np.array([beams[beam1,0:3], beams[beam2,0:3], beams[beam3,0:3]])\n",
    "    dPhi1 = np.angle(np.exp(1j*phase1)/Ug[beam1])\n",
    "    dPhi2 = np.angle(np.exp(1j*phase2)/Ug[beam2])\n",
    "    dPhi3 = np.angle(np.exp(1j*phase3)/Ug[beam3])\n",
    "    dPhi = np.array([dPhi1,dPhi2,dPhi3])\n",
    "    try:\n",
    "        r0 = np.linalg.solve(G, dPhi)\n",
    "    except:\n",
    "        r0 = np.zeros(3)\n",
    "        UgUnique = Ug\n",
    "        print(\"The three beams seem to be colinear - please chose different beams.\")\n",
    "\n",
    "    # Now, let's apply this offset to the unit cell origin to all structure factors in the list. \n",
    "    Nbeams = beams.shape[0]\n",
    "    UgUnique = np.zeros(Nbeams,dtype=complex)\n",
    "    for j in range(Nbeams):\n",
    "        dPhi1 = 2*np.pi*(np.dot(beams[j,0:3],r0))\n",
    "        UgUnique[j] = Ug[j]*np.exp(1j*dPhi1)\n",
    "        \n",
    "    print(\"Applied shift of unit cell origin (fractional coordinates):\",r0[0],r0[1],r0[2])\n",
    "    for j in range(beams.shape[0]):\n",
    "        print(\"Ug[\",j,\"]:\",np.round(np.abs(Ug[j]),5),np.round(np.angle(Ug[j]),5),\n",
    "                          \" => \",np.round(np.abs(UgUnique[j]),5),np.round(np.angle(UgUnique[j]),5))\n",
    "    \n",
    "    return UgUnique, r0"
   ]
  },
  {
   "cell_type": "code",
   "execution_count": null,
   "metadata": {},
   "outputs": [],
   "source": []
  }
 ],
 "metadata": {
  "kernelspec": {
   "display_name": "pyQEDA37",
   "language": "python",
   "name": "pyqeda37"
  },
  "language_info": {
   "codemirror_mode": {
    "name": "ipython",
    "version": 3
   },
   "file_extension": ".py",
   "mimetype": "text/x-python",
   "name": "python",
   "nbconvert_exporter": "python",
   "pygments_lexer": "ipython3",
   "version": "3.7.9"
  }
 },
 "nbformat": 4,
 "nbformat_minor": 4
}
